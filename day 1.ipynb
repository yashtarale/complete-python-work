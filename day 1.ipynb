{
 "cells": [
  {
   "cell_type": "code",
   "execution_count": 1,
   "id": "312d7dbf",
   "metadata": {},
   "outputs": [
    {
     "name": "stdout",
     "output_type": "stream",
     "text": [
      "Hello, World!\n",
      "hello world\n"
     ]
    }
   ],
   "source": [
    "print(\"Hello, World!\")\n",
    "print(\"hello world\")"
   ]
  },
  {
   "cell_type": "code",
   "execution_count": 2,
   "id": "939a07aa",
   "metadata": {},
   "outputs": [
    {
     "name": "stdout",
     "output_type": "stream",
     "text": [
      "true\n"
     ]
    }
   ],
   "source": [
    "if 5>2:\n",
    "    print (\"true\")"
   ]
  },
  {
   "cell_type": "code",
   "execution_count": 4,
   "id": "84ecc114",
   "metadata": {},
   "outputs": [],
   "source": [
    "y=5\n",
    "y=\"hello\""
   ]
  },
  {
   "cell_type": "code",
   "execution_count": 5,
   "id": "7450213a",
   "metadata": {},
   "outputs": [
    {
     "name": "stdout",
     "output_type": "stream",
     "text": [
      "hello\n"
     ]
    }
   ],
   "source": [
    "print(y)"
   ]
  },
  {
   "cell_type": "code",
   "execution_count": 6,
   "id": "97b46350",
   "metadata": {},
   "outputs": [],
   "source": [
    "#comment"
   ]
  },
  {
   "cell_type": "code",
   "execution_count": 7,
   "id": "b5496724",
   "metadata": {},
   "outputs": [
    {
     "name": "stdout",
     "output_type": "stream",
     "text": [
      "<class 'str'>\n"
     ]
    }
   ],
   "source": [
    "print(type(y))"
   ]
  },
  {
   "cell_type": "code",
   "execution_count": 8,
   "id": "55bbc2d8",
   "metadata": {},
   "outputs": [],
   "source": [
    "#A variable name must start with a letter or the underscore character\n",
    "#A variable name cannot start with a number\n",
    "#A variable name can only contain alpha-numeric characters and underscores (A-z, 0-9, and _ )\n",
    "#Variable names are case-sensitive (age, Age and AGE are three different variables)"
   ]
  },
  {
   "cell_type": "code",
   "execution_count": 9,
   "id": "9c401866",
   "metadata": {},
   "outputs": [
    {
     "name": "stdout",
     "output_type": "stream",
     "text": [
      "orange\n",
      "banana\n",
      "cherry\n"
     ]
    }
   ],
   "source": [
    "x,y,z =\"orange\",\"banana\",\"cherry\"\n",
    "print(x)\n",
    "print(y)\n",
    "print(z)"
   ]
  },
  {
   "cell_type": "markdown",
   "id": "0c0d18b6",
   "metadata": {},
   "source": [
    "# variables  global and local"
   ]
  },
  {
   "cell_type": "code",
   "execution_count": 12,
   "id": "51dcc757",
   "metadata": {},
   "outputs": [
    {
     "name": "stdout",
     "output_type": "stream",
     "text": [
      "python is fantastic\n"
     ]
    }
   ],
   "source": [
    "x=\"awesome\"#global\n",
    "\n",
    "def myfunc():\n",
    "    x=\"fantastic\"#local var\n",
    "    print(\"python is \"+ x)\n",
    "    \n",
    "myfunc()"
   ]
  },
  {
   "cell_type": "code",
   "execution_count": 13,
   "id": "865b8bb5",
   "metadata": {},
   "outputs": [
    {
     "name": "stdout",
     "output_type": "stream",
     "text": [
      "python is awesome\n"
     ]
    }
   ],
   "source": [
    "print(\"python is \" +x)"
   ]
  },
  {
   "cell_type": "markdown",
   "id": "d89734ec",
   "metadata": {},
   "source": [
    "# To change the value of a global variable inside a function, refer to the variable by using the global keyword:\n",
    "\n"
   ]
  },
  {
   "cell_type": "code",
   "execution_count": 32,
   "id": "cf450a35",
   "metadata": {},
   "outputs": [
    {
     "name": "stdout",
     "output_type": "stream",
     "text": [
      "python is fantastic\n",
      "python is fantastic\n"
     ]
    }
   ],
   "source": [
    "x = \"awesome\"\n",
    "\n",
    "def myfunc():\n",
    "  global x\n",
    "  x = \"fantastic\"\n",
    "  print(\"python is \" +x)\n",
    "\n",
    "myfunc()\n",
    "\n",
    "\n",
    "\n",
    "print(\"python is \" +x)\n",
    "\n",
    "\n"
   ]
  },
  {
   "cell_type": "markdown",
   "id": "4929723d",
   "metadata": {},
   "source": [
    "# datatypes"
   ]
  },
  {
   "cell_type": "code",
   "execution_count": 26,
   "id": "6af865e7",
   "metadata": {},
   "outputs": [],
   "source": [
    "#https://www.w3schools.com/python/python_datatypes.asp"
   ]
  },
  {
   "cell_type": "code",
   "execution_count": 27,
   "id": "98ef9eef",
   "metadata": {},
   "outputs": [],
   "source": [
    "#dictionary\n",
    "x={\"name\": \"harry potter\", \"age\" : 36}"
   ]
  },
  {
   "cell_type": "code",
   "execution_count": 31,
   "id": "17868bc7",
   "metadata": {},
   "outputs": [
    {
     "name": "stdout",
     "output_type": "stream",
     "text": [
      "{'name': 'harry potter', 'age': 36}\n"
     ]
    }
   ],
   "source": [
    "print(x)"
   ]
  },
  {
   "cell_type": "code",
   "execution_count": 33,
   "id": "e78d87d5",
   "metadata": {},
   "outputs": [],
   "source": [
    "xi = 1"
   ]
  },
  {
   "cell_type": "code",
   "execution_count": 34,
   "id": "6e46367a",
   "metadata": {},
   "outputs": [],
   "source": [
    "x= float(xi)"
   ]
  },
  {
   "cell_type": "code",
   "execution_count": 35,
   "id": "d7a9959d",
   "metadata": {},
   "outputs": [
    {
     "name": "stdout",
     "output_type": "stream",
     "text": [
      "1.0\n"
     ]
    }
   ],
   "source": [
    "print (x)"
   ]
  },
  {
   "cell_type": "code",
   "execution_count": 41,
   "id": "0e3f99a9",
   "metadata": {},
   "outputs": [
    {
     "name": "stdout",
     "output_type": "stream",
     "text": [
      "7\n"
     ]
    }
   ],
   "source": [
    "#RANDOM\n",
    "\n",
    "import random\n",
    "print(random.randrange(1,10))"
   ]
  },
  {
   "cell_type": "code",
   "execution_count": 48,
   "id": "91f4a9d1",
   "metadata": {},
   "outputs": [
    {
     "name": "stdout",
     "output_type": "stream",
     "text": [
      "3.0 4 6\n"
     ]
    }
   ],
   "source": [
    "#casting\n",
    "\n",
    "x = int(3)\n",
    "y= int(4.12546)\n",
    "z=int(\"6\")\n",
    "print (float(x),y,str(z))"
   ]
  },
  {
   "cell_type": "code",
   "execution_count": 49,
   "id": "91928b21",
   "metadata": {},
   "outputs": [
    {
     "name": "stdout",
     "output_type": "stream",
     "text": [
      "hello\n",
      "hello\n"
     ]
    }
   ],
   "source": [
    "#string\n",
    "print (\"hello\")\n",
    "print('hello')"
   ]
  },
  {
   "cell_type": "code",
   "execution_count": 56,
   "id": "33ecdf0f",
   "metadata": {},
   "outputs": [
    {
     "name": "stdout",
     "output_type": "stream",
     "text": [
      "multiline strings,\n",
      "second line,\n",
      "third line\n",
      "fourth line\n"
     ]
    }
   ],
   "source": [
    "a= \"\"\"multiline strings,\n",
    "second line,\n",
    "third line\n",
    "fourth line\"\"\"\n",
    "\n",
    "print(a)"
   ]
  },
  {
   "cell_type": "code",
   "execution_count": 57,
   "id": "84e64b8a",
   "metadata": {},
   "outputs": [
    {
     "name": "stdout",
     "output_type": "stream",
     "text": [
      "u\n"
     ]
    }
   ],
   "source": [
    "print(a[1])"
   ]
  },
  {
   "cell_type": "code",
   "execution_count": 59,
   "id": "232a233f",
   "metadata": {},
   "outputs": [
    {
     "name": "stdout",
     "output_type": "stream",
     "text": [
      "y\n",
      "a\n",
      "s\n",
      "h\n"
     ]
    }
   ],
   "source": [
    "for x in \"yash\":\n",
    "    print(x)\n"
   ]
  },
  {
   "cell_type": "markdown",
   "id": "baf3218c",
   "metadata": {},
   "source": [
    "# string length"
   ]
  },
  {
   "cell_type": "code",
   "execution_count": 60,
   "id": "f054a886",
   "metadata": {
    "scrolled": true
   },
   "outputs": [
    {
     "name": "stdout",
     "output_type": "stream",
     "text": [
      "11\n"
     ]
    }
   ],
   "source": [
    "a =\"hello world\"\n",
    "print(len(a))"
   ]
  },
  {
   "cell_type": "code",
   "execution_count": 62,
   "id": "58bb450c",
   "metadata": {},
   "outputs": [
    {
     "name": "stdout",
     "output_type": "stream",
     "text": [
      "True\n"
     ]
    }
   ],
   "source": [
    "txt =\"hello world i m yash\"\n",
    "print(\"yash\" in txt) #check whether the letter present in the text given as input"
   ]
  },
  {
   "cell_type": "code",
   "execution_count": 66,
   "id": "e2f8a10f",
   "metadata": {},
   "outputs": [
    {
     "name": "stdout",
     "output_type": "stream",
     "text": [
      "yes, 'yash' is present\n"
     ]
    }
   ],
   "source": [
    "if \"yash\" in txt:\n",
    "    print(\"yes, 'yash' is present\")"
   ]
  },
  {
   "cell_type": "code",
   "execution_count": 69,
   "id": "38ec0a38",
   "metadata": {},
   "outputs": [
    {
     "name": "stdout",
     "output_type": "stream",
     "text": [
      "no, 'i am yash' is not present\n"
     ]
    }
   ],
   "source": [
    "if \"i am yash\" not in txt:\n",
    "    print(\"no, 'i am yash' is not present\")"
   ]
  },
  {
   "cell_type": "markdown",
   "id": "018e7696",
   "metadata": {},
   "source": [
    "# slicing"
   ]
  },
  {
   "cell_type": "code",
   "execution_count": 82,
   "id": "ce3cfc51",
   "metadata": {},
   "outputs": [
    {
     "name": "stdout",
     "output_type": "stream",
     "text": [
      "this is an example\n",
      " this is an example\n",
      "this is an example of the string\n"
     ]
    }
   ],
   "source": [
    "string =\" this is an example of the string\"\n",
    "print(string[1:19])#form string word to word\n",
    "print(string[:19])#from the begining\n",
    "print(string[1:])#to the end from the number as start"
   ]
  },
  {
   "cell_type": "code",
   "execution_count": 83,
   "id": "0445da6b",
   "metadata": {},
   "outputs": [],
   "source": [
    "#negative indexing"
   ]
  },
  {
   "cell_type": "code",
   "execution_count": 84,
   "id": "b3ad7425",
   "metadata": {},
   "outputs": [
    {
     "name": "stdout",
     "output_type": "stream",
     "text": [
      "tri\n"
     ]
    }
   ],
   "source": [
    "b= \"this is a example of the string\"\n",
    "print(b[-5:-2])"
   ]
  },
  {
   "cell_type": "code",
   "execution_count": 85,
   "id": "c0b12ddb",
   "metadata": {},
   "outputs": [
    {
     "name": "stdout",
     "output_type": "stream",
     "text": [
      "tring\n"
     ]
    }
   ],
   "source": [
    "print(b[-5:])"
   ]
  },
  {
   "cell_type": "code",
   "execution_count": 86,
   "id": "fd544a96",
   "metadata": {},
   "outputs": [
    {
     "name": "stdout",
     "output_type": "stream",
     "text": [
      "HELLO WORLD\n"
     ]
    }
   ],
   "source": [
    "print(a.upper())"
   ]
  },
  {
   "cell_type": "code",
   "execution_count": 87,
   "id": "4e9b10b2",
   "metadata": {},
   "outputs": [
    {
     "name": "stdout",
     "output_type": "stream",
     "text": [
      "hello world\n"
     ]
    }
   ],
   "source": [
    "print(a.lower())"
   ]
  },
  {
   "cell_type": "markdown",
   "id": "8c766a00",
   "metadata": {},
   "source": [
    "# strip"
   ]
  },
  {
   "cell_type": "code",
   "execution_count": 92,
   "id": "2cb76aa8",
   "metadata": {},
   "outputs": [
    {
     "name": "stdout",
     "output_type": "stream",
     "text": [
      "this is an example of whitespaces in the given line\n"
     ]
    }
   ],
   "source": [
    "str = \"                 this is an example of whitespaces in the given line              \"\n",
    "print(str.strip())"
   ]
  },
  {
   "cell_type": "code",
   "execution_count": 93,
   "id": "46fc314f",
   "metadata": {},
   "outputs": [
    {
     "name": "stdout",
     "output_type": "stream",
     "text": [
      "hi world\n"
     ]
    }
   ],
   "source": [
    "#replace\n",
    "print(a.replace(\"hello\",\"hi\"))"
   ]
  },
  {
   "cell_type": "code",
   "execution_count": 97,
   "id": "58f6d681",
   "metadata": {},
   "outputs": [
    {
     "name": "stdout",
     "output_type": "stream",
     "text": [
      "['hello ', ' World']\n"
     ]
    }
   ],
   "source": [
    "a= \"hello , World\"#spit the words\n",
    "print(a.split(\",\"))"
   ]
  },
  {
   "cell_type": "code",
   "execution_count": 99,
   "id": "cef02f32",
   "metadata": {},
   "outputs": [
    {
     "name": "stdout",
     "output_type": "stream",
     "text": [
      "new world\n"
     ]
    }
   ],
   "source": [
    "#concatenation\n",
    "a=\"new\"\n",
    "b=\"world\"\n",
    "c =\" \"\n",
    "print(a+c+b)"
   ]
  },
  {
   "cell_type": "markdown",
   "id": "9f6c1046",
   "metadata": {},
   "source": [
    "# strinf format ****"
   ]
  },
  {
   "cell_type": "code",
   "execution_count": 104,
   "id": "b2aa608d",
   "metadata": {},
   "outputs": [],
   "source": [
    "#age= 36\n",
    "#txt =\"this is wrong example of combine string with other datatype \" + age\n",
    "#print(txt)\n",
    "#TypeError: can only concatenate str (not \"int\") to str"
   ]
  },
  {
   "cell_type": "code",
   "execution_count": 106,
   "id": "b27342ba",
   "metadata": {},
   "outputs": [
    {
     "name": "stdout",
     "output_type": "stream",
     "text": [
      "this is the corect example of combining a strig with the iteger 36 \n"
     ]
    }
   ],
   "source": [
    "age=36\n",
    "txt =\"this is the corect example of combining a strig with the iteger {} \"\n",
    "print(txt.format(age))"
   ]
  },
  {
   "cell_type": "code",
   "execution_count": 107,
   "id": "f3f10dc0",
   "metadata": {},
   "outputs": [
    {
     "name": "stdout",
     "output_type": "stream",
     "text": [
      "i want 32.23 pieces if item 4464646 for rs 45\n"
     ]
    }
   ],
   "source": [
    "quantity = 32.23\n",
    "second = 4464646\n",
    "third = 45\n",
    "text = \"i want {} pieces if item {} for rs {}\"\n",
    "print(text.format(quantity,second,third))"
   ]
  },
  {
   "cell_type": "code",
   "execution_count": 111,
   "id": "982cf5a7",
   "metadata": {},
   "outputs": [
    {
     "name": "stdout",
     "output_type": "stream",
     "text": [
      "I want to pay 49.95 dollars for 3 pieces of item 567.\n"
     ]
    }
   ],
   "source": [
    "quantity = 3\n",
    "itemno = 567\n",
    "price = 49.95\n",
    "myorder = \"I want to pay {2} dollars for {0} pieces of item {1}.\"\n",
    "print(myorder.format(quantity, itemno, price))#0,1,2 position analyzed"
   ]
  },
  {
   "cell_type": "code",
   "execution_count": 120,
   "id": "d36473dc",
   "metadata": {},
   "outputs": [
    {
     "name": "stdout",
     "output_type": "stream",
     "text": [
      "hello \\oooworld\n"
     ]
    }
   ],
   "source": [
    "text = \"hello \\oooworld\"\n",
    "print(text)"
   ]
  },
  {
   "cell_type": "code",
   "execution_count": null,
   "id": "27e49d25",
   "metadata": {},
   "outputs": [],
   "source": []
  },
  {
   "cell_type": "code",
   "execution_count": null,
   "id": "96c6d207",
   "metadata": {},
   "outputs": [],
   "source": []
  }
 ],
 "metadata": {
  "kernelspec": {
   "display_name": "Python 3",
   "language": "python",
   "name": "python3"
  },
  "language_info": {
   "codemirror_mode": {
    "name": "ipython",
    "version": 3
   },
   "file_extension": ".py",
   "mimetype": "text/x-python",
   "name": "python",
   "nbconvert_exporter": "python",
   "pygments_lexer": "ipython3",
   "version": "3.8.8"
  }
 },
 "nbformat": 4,
 "nbformat_minor": 5
}
